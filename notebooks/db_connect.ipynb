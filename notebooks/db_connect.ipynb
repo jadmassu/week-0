{
 "cells": [
  {
   "cell_type": "code",
   "execution_count": 1,
   "id": "ce7df7cc-2bb1-4736-ab2b-965f92714575",
   "metadata": {},
   "outputs": [],
   "source": [
    "import os, sys\n",
    "import re\n",
    "import json\n",
    "import glob\n",
    "import datetime\n",
    "from collections import Counter\n",
    "\n",
    "import pandas as pd\n",
    "from matplotlib import pyplot as plt\n",
    "import seaborn as sns\n",
    "\n",
    "# Add parent directory to path to import modules from src\n",
    "rpath = os.path.abspath('/home/user/Documents/10/Assignment/week-0/src')\n",
    "\n",
    "if rpath not in sys.path:\n",
    "    sys.path.insert(0, rpath)\n",
    "    \n",
    "from loader import SlackDataLoader\n",
    "import utils as utils\n",
    "import data_access as database"
   ]
  },
  {
   "cell_type": "code",
   "execution_count": 2,
   "id": "2d3492d5-7348-46fd-9732-8c167f62b0f9",
   "metadata": {
    "tags": []
   },
   "outputs": [],
   "source": [
    "#for creating database\n",
    "database.create_database('../docs/db.sql')"
   ]
  },
  {
   "cell_type": "code",
   "execution_count": 3,
   "id": "7f7cab8a-9307-4a16-903b-52fb639d907c",
   "metadata": {
    "tags": []
   },
   "outputs": [],
   "source": [
    "read_file = SlackDataLoader(\"../anonymized\")\n",
    "data = read_file.slack_parser(\"../anonymized/all-week8/\")"
   ]
  },
  {
   "cell_type": "code",
   "execution_count": 4,
   "id": "3dfe0fc6-0fd2-49cd-8fa6-0b6572b5e35d",
   "metadata": {},
   "outputs": [
    {
     "name": "stdout",
     "output_type": "stream",
     "text": [
      "Data added successfully!\n"
     ]
    }
   ],
   "source": [
    "database.add_data_to_mysql(data)"
   ]
  },
  {
   "cell_type": "code",
   "execution_count": null,
   "id": "cb6ed0a1-c567-49aa-b736-8d707039eb42",
   "metadata": {},
   "outputs": [],
   "source": []
  }
 ],
 "metadata": {
  "kernelspec": {
   "display_name": "Python 3 (ipykernel)",
   "language": "python",
   "name": "python3"
  },
  "language_info": {
   "codemirror_mode": {
    "name": "ipython",
    "version": 3
   },
   "file_extension": ".py",
   "mimetype": "text/x-python",
   "name": "python",
   "nbconvert_exporter": "python",
   "pygments_lexer": "ipython3",
   "version": "3.11.5"
  }
 },
 "nbformat": 4,
 "nbformat_minor": 5
}
